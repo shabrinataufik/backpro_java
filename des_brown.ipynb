{
  "nbformat": 4,
  "nbformat_minor": 0,
  "metadata": {
    "colab": {
      "name": "Untitled0.ipynb",
      "provenance": [],
      "authorship_tag": "ABX9TyPDGqRBqpm5/gxkp41zn/JB",
      "include_colab_link": true
    },
    "kernelspec": {
      "name": "python3",
      "display_name": "Python 3"
    },
    "accelerator": "GPU"
  },
  "cells": [
    {
      "cell_type": "markdown",
      "metadata": {
        "id": "view-in-github",
        "colab_type": "text"
      },
      "source": [
        "<a href=\"https://colab.research.google.com/github/shabrinataufik/backpro_java/blob/master/des_brown.ipynb\" target=\"_parent\"><img src=\"https://colab.research.google.com/assets/colab-badge.svg\" alt=\"Open In Colab\"/></a>"
      ]
    },
    {
      "cell_type": "code",
      "metadata": {
        "id": "Mu7eorry1EeY",
        "colab_type": "code",
        "colab": {
          "base_uri": "https://localhost:8080/",
          "height": 247
        },
        "outputId": "9cc16138-2d97-463a-e55a-618b270f5e0c"
      },
      "source": [
        "import pandas as pd\n",
        "import numpy as np\n",
        "import scipy as sp\n",
        "import random\n",
        "import math\n",
        "\n",
        "dtset=pd.read_csv('sample_data/harga_emas_dunia.csv')\n",
        "\n",
        "st=[]\n",
        "st2=[]\n",
        "at=[]\n",
        "bt=[]\n",
        "yt=[]\n",
        "alpha=0.065\n",
        "x=[]\n",
        "\n",
        "\n",
        "'----- Nilai X -----'\n",
        "\n",
        "for i in range(50):\n",
        "    x.append(dtset.iloc[i][1])\n",
        "    \n",
        "    \n",
        "'----- Menghitung nilai st -----'\n",
        "st.append(dtset.iloc[0][1])\n",
        "\n",
        "for i in range(50):\n",
        "    result = alpha*x[i]+(1-alpha)*st[i]\n",
        "    st.append(result)\n",
        "\n",
        "\n",
        "'----- Menghitung nilai st2 -----'\n",
        "st2.append(dtset.iloc[0][1])\n",
        "\n",
        "for i in range(50):\n",
        "    result = alpha*st[i+1]+(1-alpha)*st2[i]\n",
        "    st2.append(result)\n",
        "\n",
        "\n",
        "'----- Menghitung nilai at -----'\n",
        "for i in range(50):\n",
        "    result = 2*st[i]-st2[i]\n",
        "    at.append(result)\n",
        "\n",
        "\n",
        "'----- Menghitung nilai bt -----'\n",
        "for i in range(50):\n",
        "    result = alpha/(1-alpha)*(st[i]-st2[i])\n",
        "    bt.append(result)\n",
        "\n",
        "\n",
        "'----- Menghitung nilai yt -----'\n",
        "for i in range(10):\n",
        "    result = at[40+i]+bt[40+i]*(i+1)\n",
        "    yt.append(result)\n",
        "\n",
        "\n",
        "\n",
        "for i in range(10):\n",
        "    print(x[40+i], \" - \", yt[i])\n",
        "    \n",
        "\n",
        "\n",
        "'------ Menghitung nilai MAPE ------'\n",
        "\n",
        "m=0\n",
        "for i in range(10):\n",
        "   m = m+(abs(x[40+i]-yt[i])/x[40+i])\n",
        "   \n",
        "mape = m/10*100\n",
        "\n",
        "print()\n",
        "print(\"MAPE =\", mape, \"%\")\n",
        "\n",
        "\n",
        "'------ Menghitung nilai RMSE ------'\n",
        "y=0\n",
        "for i in range(10):\n",
        "    y = y+math.pow(x[i+40]-yt[i], 2) \n",
        "    \n",
        "rmse = math.sqrt(y/10)\n",
        "\n",
        "print('RMSE =', rmse)"
      ],
      "execution_count": 19,
      "outputs": [
        {
          "output_type": "stream",
          "text": [
            "1421.4  -  647.2497632634334\n",
            "1564.91  -  775.9464156905672\n",
            "1675.35  -  918.6750046604506\n",
            "1201.64  -  1070.2003897364973\n",
            "1184.37  -  1144.233128522153\n",
            "1061.1  -  1210.8822659413006\n",
            "1147.5  -  1253.766213078019\n",
            "1302.8  -  1306.8832104639243\n",
            "1282.49  -  1381.2478233156828\n",
            "1430.99  -  1446.70020564182\n",
            "\n",
            "MAPE = 19.68604287677958 %\n",
            "RMSE = 430.92462689471967\n"
          ],
          "name": "stdout"
        }
      ]
    },
    {
      "cell_type": "code",
      "metadata": {
        "id": "a_jwxQI-zN3C",
        "colab_type": "code",
        "colab": {}
      },
      "source": [
        ""
      ],
      "execution_count": null,
      "outputs": []
    }
  ]
}